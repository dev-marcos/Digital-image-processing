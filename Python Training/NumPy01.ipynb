{
  "cells": [
    {
      "cell_type": "markdown",
      "metadata": {
        "id": "view-in-github",
        "colab_type": "text"
      },
      "source": [
        "<a href=\"https://colab.research.google.com/github/dev-marcos/Digital-image-processing/blob/main/Python%20Training/NumPy01.ipynb\" target=\"_parent\"><img src=\"https://colab.research.google.com/assets/colab-badge.svg\" alt=\"Open In Colab\"/></a>"
      ]
    },
    {
      "cell_type": "markdown",
      "metadata": {
        "id": "veJFpmPDU_8_"
      },
      "source": [
        "# <font color=\"#ff9900\"> **NumPy Básico - Exercícios**</font>\n",
        "---\n",
        "\n",
        "Este é um pequeno conjunto de exercícios para testar sua compreensão sobre alguns recursos básicos da biblioteca ``NumPy`` (https://numpy.org/). \n",
        "\n",
        "NumPy é um pacote fundamental para computação científica com Python, sendo uma biblioteca bastante madura otimizada para manipular *arrays* multidimensionais gigantes. Seu desenvolvimento é comunitário e possui licença BSD.\n",
        ".\n",
        "\n",
        "---\n",
        "\n",
        "> 💡 **Observação**: Leia o exercício e insira as instruções necessárias para completar a tarefa na célula de código correspondente, isto é, aquelas marcadas com `` []``. Se necessário use como referência a saída esperada.  Para executar a célula de código, posicione dentro dela e pressione ``Ctrl``+``Enter``.\n",
        "\n",
        "---"
      ]
    },
    {
      "cell_type": "markdown",
      "source": [
        "Antes de mais nada vamos importar NumPy e verificar a versão disponível."
      ],
      "metadata": {
        "id": "9zTelMBgX32Q"
      }
    },
    {
      "cell_type": "code",
      "source": [
        "import numpy as np\n",
        "np.__version__"
      ],
      "metadata": {
        "colab": {
          "base_uri": "https://localhost:8080/",
          "height": 35
        },
        "id": "vJ1jaV0KYDhQ",
        "outputId": "f4440819-17f4-4bb2-91cd-a8c494cea01f"
      },
      "execution_count": null,
      "outputs": [
        {
          "output_type": "execute_result",
          "data": {
            "text/plain": [
              "'1.21.6'"
            ],
            "application/vnd.google.colaboratory.intrinsic+json": {
              "type": "string"
            }
          },
          "metadata": {},
          "execution_count": 1
        }
      ]
    },
    {
      "cell_type": "markdown",
      "metadata": {
        "id": "idpP1W2oU_9E"
      },
      "source": [
        "1) **Dados dois** ***arrays* numpy $a$ e $b$ de dimensões similares, obtenha como saída um array $c$ no qual cada elemento é o resultado da soma elemento-a-elemento dos dois *arrays* inicias.**"
      ]
    },
    {
      "cell_type": "code",
      "execution_count": null,
      "metadata": {
        "id": "6vjVmB-VU_9F",
        "colab": {
          "base_uri": "https://localhost:8080/"
        },
        "outputId": "6ebeb5dd-8dfd-478b-b149-1cc1d262a0a4"
      },
      "outputs": [
        {
          "output_type": "stream",
          "name": "stdout",
          "text": [
            " Array a:\n",
            "[[1 2 3]\n",
            " [4 5 6]]\n",
            "\n",
            " Array b:\n",
            "[[2 3 4]\n",
            " [5 6 7]]\n"
          ]
        }
      ],
      "source": [
        "a = np.array([[1, 2, 3],\n",
        "              [4, 5, 6]])\n",
        "\n",
        "b = np.array([[2, 3, 4],\n",
        "              [5, 6, 7]])\n",
        "\n",
        "print(f\" Array a:\\n{a}\\n\\n Array b:\\n{b}\")\n",
        "\n",
        "#  insira sua resposta"
      ]
    },
    {
      "cell_type": "markdown",
      "metadata": {
        "id": "VrUAwlrhU_9F"
      },
      "source": [
        "2) **Gere uma sequência numérica variando de $0$ a $100$ (inclusive) espaçada de $3$ números**."
      ]
    },
    {
      "cell_type": "code",
      "execution_count": null,
      "metadata": {
        "id": "LWZlsLyIU_9G"
      },
      "outputs": [],
      "source": []
    },
    {
      "cell_type": "markdown",
      "metadata": {
        "id": "XvyIPZ86U_9G"
      },
      "source": [
        "3) **Crie um *array* $3\\times5$ para representar uma imagem totalmente branca, isto é, todos os pixels valendo $255$:**\n"
      ]
    },
    {
      "cell_type": "code",
      "execution_count": null,
      "metadata": {
        "id": "r2KCkMRwU_9H"
      },
      "outputs": [],
      "source": []
    },
    {
      "cell_type": "markdown",
      "metadata": {
        "id": "SJh12MIRU_9H"
      },
      "source": [
        "4) **Crie um *array* $3\\times5$ para representar uma imagem totalmente preta, isto é, todos os pixels valendo $0$:**\n"
      ]
    },
    {
      "cell_type": "code",
      "execution_count": null,
      "metadata": {
        "id": "uMSKt84xU_9I"
      },
      "outputs": [],
      "source": []
    },
    {
      "cell_type": "markdown",
      "metadata": {
        "id": "4d1pJ9QxU_9I"
      },
      "source": [
        "\n",
        "5) **Dados os *arrays* $a = \\begin{bmatrix} -1 & 2 & 3 \\\\ 5 & 2 & 0 \\end{bmatrix}$ e $b = \\begin{bmatrix} 7 & 2 \\\\ 0 & 5 \\\\ 4 & 3 \\end{bmatrix}$** efetue $c = a \\cdot b$.\n",
        "Dica: operador $@$ e função ```matmul```.\n"
      ]
    },
    {
      "cell_type": "code",
      "execution_count": null,
      "metadata": {
        "id": "KnCubYzCU_9J"
      },
      "outputs": [],
      "source": []
    },
    {
      "cell_type": "markdown",
      "metadata": {
        "id": "78MHOSpPU_9J"
      },
      "source": [
        "6) **Apresente a transposta da matriz identidade $a_{3 \\times 3}$. Dica: função ```np.eye```**\n"
      ]
    },
    {
      "cell_type": "code",
      "execution_count": null,
      "metadata": {
        "id": "NUXT38z6U_9K",
        "colab": {
          "base_uri": "https://localhost:8080/"
        },
        "outputId": "b4b0d7f5-5ac6-4f85-b526-50351978e5cc"
      },
      "outputs": [
        {
          "output_type": "execute_result",
          "data": {
            "text/plain": [
              "array([[1., 0., 0.],\n",
              "       [0., 1., 0.],\n",
              "       [0., 0., 1.]])"
            ]
          },
          "metadata": {},
          "execution_count": 14
        }
      ],
      "source": [
        "a = np.eye(3)\n",
        "a\n",
        "# sua resposta"
      ]
    },
    {
      "cell_type": "markdown",
      "metadata": {
        "id": "3QLaUNV6U_9K"
      },
      "source": [
        "7) **Crie um *array* dado um comprimento $length$, um valor inicial $start$ e o passo $step$**\n",
        "\n",
        "```python\n",
        "length = 10\n",
        "start = 3\n",
        "step = 2\n",
        "\n",
        "#array([3,  5,  7,  9, 11, 13, 15, 17, 19, 21]) \n",
        "```"
      ]
    },
    {
      "cell_type": "code",
      "execution_count": null,
      "metadata": {
        "id": "KUe7gCqbU_9K"
      },
      "outputs": [],
      "source": [
        "length = 10\n",
        "start = 3\n",
        "step = 2\n",
        "\n",
        "# sua resposta"
      ]
    },
    {
      "cell_type": "markdown",
      "metadata": {
        "id": "baIWqpL-U_9K"
      },
      "source": [
        "8) **Dado o array $x$, compute e apresente o valor máximo de cada linha.**\n",
        "\n"
      ]
    },
    {
      "cell_type": "code",
      "execution_count": null,
      "metadata": {
        "id": "v9IA7nqNU_9L",
        "colab": {
          "base_uri": "https://localhost:8080/"
        },
        "outputId": "a6869878-df54-4225-b3d4-15d0204391a1"
      },
      "outputs": [
        {
          "output_type": "execute_result",
          "data": {
            "text/plain": [
              "array([[17,  1, 12],\n",
              "       [14,  2,  5],\n",
              "       [ 7,  6,  7],\n",
              "       [14,  6,  3],\n",
              "       [ 8, 16,  5],\n",
              "       [15,  4,  7],\n",
              "       [12, 18, 11],\n",
              "       [10,  1,  7]])"
            ]
          },
          "metadata": {},
          "execution_count": 7
        }
      ],
      "source": [
        "np.random.seed(50)\n",
        "x = np.random.randint(1, 20, size=(8, 3))\n",
        "x\n",
        "# sua resposta"
      ]
    },
    {
      "cell_type": "markdown",
      "metadata": {
        "id": "zmbiVB72U_9L"
      },
      "source": [
        "9)<img src=\"https://drive.google.com/uc?id=1CFPpZphJaaGNS9rTZKS5wurnkOX0JCbU\" width=\"100\" height=\"auto\">  **O repositório da UCI oferece o *iris data set* (https://archive.ics.uci.edu/ml/datasets/iris) que contém características da planta íris (*Iris sp.*).  Dado o *dataset* ```sepallength``` que contém o atributo de comprimento das sépalas, calcule a média, a mediana e o desvio-padrão.**\n",
        "\n"
      ]
    },
    {
      "cell_type": "code",
      "execution_count": null,
      "metadata": {
        "id": "vgyDPjreU_9M",
        "colab": {
          "base_uri": "https://localhost:8080/"
        },
        "outputId": "bb7db507-9e57-42dc-fa09-55a232786947"
      },
      "outputs": [
        {
          "output_type": "execute_result",
          "data": {
            "text/plain": [
              "array([5.1, 4.9, 4.7, 4.6, 5. , 5.4, 4.6, 5. , 4.4, 4.9, 5.4, 4.8, 4.8,\n",
              "       4.3, 5.8, 5.7, 5.4, 5.1, 5.7, 5.1, 5.4, 5.1, 4.6, 5.1, 4.8, 5. ,\n",
              "       5. , 5.2, 5.2, 4.7, 4.8, 5.4, 5.2, 5.5, 4.9, 5. , 5.5, 4.9, 4.4,\n",
              "       5.1, 5. , 4.5, 4.4, 5. , 5.1, 4.8, 5.1, 4.6, 5.3, 5. , 7. , 6.4,\n",
              "       6.9, 5.5, 6.5, 5.7, 6.3, 4.9, 6.6, 5.2, 5. , 5.9, 6. , 6.1, 5.6,\n",
              "       6.7, 5.6, 5.8, 6.2, 5.6, 5.9, 6.1, 6.3, 6.1, 6.4, 6.6, 6.8, 6.7,\n",
              "       6. , 5.7, 5.5, 5.5, 5.8, 6. , 5.4, 6. , 6.7, 6.3, 5.6, 5.5, 5.5,\n",
              "       6.1, 5.8, 5. , 5.6, 5.7, 5.7, 6.2, 5.1, 5.7, 6.3, 5.8, 7.1, 6.3,\n",
              "       6.5, 7.6, 4.9, 7.3, 6.7, 7.2, 6.5, 6.4, 6.8, 5.7, 5.8, 6.4, 6.5,\n",
              "       7.7, 7.7, 6. , 6.9, 5.6, 7.7, 6.3, 6.7, 7.2, 6.2, 6.1, 6.4, 7.2,\n",
              "       7.4, 7.9, 6.4, 6.3, 6.1, 7.7, 6.3, 6.4, 6. , 6.9, 6.7, 6.9, 5.8,\n",
              "       6.8, 6.7, 6.7, 6.3, 6.5, 6.2, 5.9])"
            ]
          },
          "metadata": {},
          "execution_count": 19
        }
      ],
      "source": [
        "url = 'https://archive.ics.uci.edu/ml/machine-learning-databases/iris/iris.data'\n",
        "iris = np.genfromtxt(url, delimiter=',', dtype='object')\n",
        "sepallength = np.genfromtxt(url, delimiter=',', dtype='float', usecols=[0])\n",
        "\n",
        "sepallength\n",
        "\n",
        "# sua resposta"
      ]
    },
    {
      "cell_type": "markdown",
      "metadata": {
        "id": "pqe0pG1NU_9M"
      },
      "source": [
        "10) **Dado o *array* $a$ utilize a função ```np.where``` para gerar uma máscara de índices que obtenha todos os valores entre 5 e 10**\n",
        "\n"
      ]
    },
    {
      "cell_type": "code",
      "execution_count": null,
      "metadata": {
        "id": "0JDWybexU_9M",
        "colab": {
          "base_uri": "https://localhost:8080/"
        },
        "outputId": "95dc4ce4-5909-44ca-ea3c-1d978982b346"
      },
      "outputs": [
        {
          "output_type": "execute_result",
          "data": {
            "text/plain": [
              "array([ 9,  8,  5, 10,  5,  5,  5,  8,  8, 10,  8,  7,  9,  5,  9,  7, 10,\n",
              "        5,  6,  8,  7])"
            ]
          },
          "metadata": {},
          "execution_count": 21
        }
      ],
      "source": [
        "np.random.seed(100)\n",
        "a = np.random.randint(1, 25, [10,10])\n",
        "a\n",
        "# sua resposta\n"
      ]
    },
    {
      "cell_type": "markdown",
      "source": [
        "11) ** Dado o array  $a_{10 \\times 10}$  utilize indexação para obter apenas os números ímpares.**"
      ],
      "metadata": {
        "id": "ifYvOvMzja3c"
      }
    },
    {
      "cell_type": "code",
      "source": [
        "np.random.seed(10)\n",
        "a = np.random.randint(1, 100, size=(10, 10))\n",
        "a\n",
        "# sua resposta"
      ],
      "metadata": {
        "colab": {
          "base_uri": "https://localhost:8080/"
        },
        "id": "Y5TMnG55jbR2",
        "outputId": "0232171b-95af-45fe-d778-81d518bbd487"
      },
      "execution_count": null,
      "outputs": [
        {
          "output_type": "execute_result",
          "data": {
            "text/plain": [
              "array([[10, 16, 65, 29, 90, 94, 30,  9, 74,  1],\n",
              "       [41, 37, 17, 12, 55, 89, 63, 34, 73, 79],\n",
              "       [50, 52, 55, 78, 70, 14, 26, 14, 93, 87],\n",
              "       [31, 31, 90, 13, 66, 32, 58, 37, 28, 19],\n",
              "       [94, 78, 23, 24, 95, 12, 29, 75, 89, 10],\n",
              "       [16, 19, 81, 72, 89, 12, 18, 47,  8, 76],\n",
              "       [29, 34, 85, 97, 89, 45,  6,  5, 72, 89],\n",
              "       [89, 51, 55, 35, 16, 78, 89, 16,  7, 86],\n",
              "       [23, 12, 13, 93, 97, 63, 58, 80, 43, 58],\n",
              "       [98, 51, 46, 41, 90, 74, 38,  1, 19, 24]])"
            ]
          },
          "metadata": {},
          "execution_count": 2
        }
      ]
    },
    {
      "cell_type": "markdown",
      "source": [
        "12) **Dado o *array*  $a_{10 \\times 10}$  utilize indexação substituir todos os valores pares para 0.**"
      ],
      "metadata": {
        "id": "SOzLK-twjzof"
      }
    },
    {
      "cell_type": "code",
      "source": [
        "np.random.seed(100)\n",
        "a = np.random.randint(1, 100, size=(10, 10))\n",
        "a\n",
        "# sua resposta"
      ],
      "metadata": {
        "colab": {
          "base_uri": "https://localhost:8080/"
        },
        "id": "Hs_aGF5cj3uQ",
        "outputId": "21e9d325-4a83-4095-95b8-0027839f7f42"
      },
      "execution_count": null,
      "outputs": [
        {
          "output_type": "execute_result",
          "data": {
            "text/plain": [
              "array([[ 9, 25, 68, 88, 80, 49, 11, 95, 53, 99],\n",
              "       [54, 67, 99, 15, 35, 25, 16, 61, 59, 17],\n",
              "       [10, 94, 87,  3, 28,  5, 32,  2, 14, 84],\n",
              "       [ 5, 92, 60, 68,  8, 50, 48, 66, 62, 15],\n",
              "       [56, 72, 81,  3, 95, 20, 99, 64, 54, 28],\n",
              "       [57, 31, 49, 48, 40, 39, 45, 19, 65, 57],\n",
              "       [35, 54, 75, 18, 73, 14, 31, 18, 54, 69],\n",
              "       [51, 92, 92, 84, 54, 79,  1, 14, 58, 77],\n",
              "       [ 4, 71,  4, 85, 80, 11, 88, 61,  4, 49],\n",
              "       [53, 44, 37,  6, 72, 39, 87, 95, 99, 43]])"
            ]
          },
          "metadata": {},
          "execution_count": 4
        }
      ]
    },
    {
      "cell_type": "markdown",
      "source": [
        "13) **Dado o *array*  $a_{1 \\times 50}$  converta para um array  $a_{5 \\times 10}$.**"
      ],
      "metadata": {
        "id": "Oom_3x6Tj8W9"
      }
    },
    {
      "cell_type": "code",
      "source": [
        "np.random.seed(10)\n",
        "a = np.random.randint(1, 100, (1, 50))\n",
        "\n",
        "print(f'a.shape: {a.shape} \\n a:\\n{a}')\n",
        "\n",
        "# sua resposta"
      ],
      "metadata": {
        "colab": {
          "base_uri": "https://localhost:8080/"
        },
        "id": "yO5C9e0ukGht",
        "outputId": "46157c5b-6597-447b-ba03-9bbb0513c4ae"
      },
      "execution_count": null,
      "outputs": [
        {
          "output_type": "stream",
          "name": "stdout",
          "text": [
            "a.shape: (1, 50) \n",
            " a:\n",
            "[[10 16 65 29 90 94 30  9 74  1 41 37 17 12 55 89 63 34 73 79 50 52 55 78\n",
            "  70 14 26 14 93 87 31 31 90 13 66 32 58 37 28 19 94 78 23 24 95 12 29 75\n",
            "  89 10]]\n"
          ]
        }
      ]
    },
    {
      "cell_type": "markdown",
      "metadata": {
        "id": "19XRuD4nU_9N"
      },
      "source": [
        "---\n",
        "<font color=\"#ffb31a\">Fabio Alexandre **SPANHOL**</font> <faspanhol@gmail.com>\n",
        "\n",
        "<font color=\"#cccccc\">*Updated: aug 21 2022*</font>"
      ]
    }
  ],
  "metadata": {
    "kernelspec": {
      "display_name": "Python 3",
      "language": "python",
      "name": "python3"
    },
    "language_info": {
      "codemirror_mode": {
        "name": "ipython",
        "version": 3
      },
      "file_extension": ".py",
      "mimetype": "text/x-python",
      "name": "python",
      "nbconvert_exporter": "python",
      "pygments_lexer": "ipython3",
      "version": "3.7.3"
    },
    "colab": {
      "provenance": [],
      "collapsed_sections": [],
      "include_colab_link": true
    }
  },
  "nbformat": 4,
  "nbformat_minor": 0
}